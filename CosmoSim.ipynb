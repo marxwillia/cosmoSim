{
 "cells": [
  {
   "cell_type": "code",
   "execution_count": 1,
   "metadata": {
    "collapsed": false
   },
   "outputs": [],
   "source": [
    "import numpy as np\n",
    "import matplotlib\n",
    "matplotlib.use('Agg')\n",
    "import matplotlib.pyplot as plt\n",
    "#%matplotlib inline"
   ]
  },
  {
   "cell_type": "code",
   "execution_count": 11,
   "metadata": {
    "collapsed": false
   },
   "outputs": [],
   "source": [
    "class CosmoSim:\n",
    "    \n",
    "    Npts = -1 # Number of points per side of square\n",
    "    ptPosArray = np.empty(1)\n",
    "    ptVelArray = np.empty(1)\n",
    "    ptMass = -1.0\n",
    "    G = 6.67408E-11 # m^3 / (kg * s^2)\n",
    "    sideLength = -1.0\n",
    "    t = 0.0\n",
    "    outdir = ''\n",
    "    force_matrix = None\n",
    "    \n",
    "    def __init__(self,Npts, ptMass, sideLength, t, outdir):\n",
    "        \n",
    "        self.outdir = outdir\n",
    "        self.Npts = Npts\n",
    "        \n",
    "        self.ptPosArray = []\n",
    "        for i in range(Npts):\n",
    "            for j in range(Npts):\n",
    "                self.ptPosArray.append([i,j])\n",
    "        self.ptPosArray = np.array(self.ptPosArray)\n",
    "        \n",
    "        self.ptVelArray = []\n",
    "        for i in range(Npts):\n",
    "            for j in range(Npts):\n",
    "                self.ptVelArray.append([0,0])\n",
    "        self.ptVelArray = np.array(self.ptVelArray)\n",
    "        \n",
    "        self.ptMass = ptMass\n",
    "        self.sideLength = sideLength\n",
    "        self.t = t\n",
    "        return\n",
    "    \n",
    "    def perturbPos(self, strength):\n",
    "        theta = np.random.uniform(0.0,2*np.pi,self.Npts**2)\n",
    "        perturb = strength*np.array([[np.cos(th),np.sin(th)] for th in theta])\n",
    "        self.ptPosArray = self.ptPosArray + perturb\n",
    "    \n",
    "    def periodicDistance(self,x1, y1, x2, y2, L):\n",
    "        abs_dx = np.abs(x1-x2)\n",
    "        abs_dy = np.abs(y1-y2)\n",
    "        xsep = min([abs_dx,L-abs_dx])\n",
    "        ysep = min([abs_dy, L-abs_dy])\n",
    "        return np.sqrt(xsep**2 + ysep**2)\n",
    "    \n",
    "    def evolve(self, tfinal, N, padding=1.0, showVel=False, snapshot=False):\n",
    "        self.dt = float(tfinal)/N\n",
    "        count=0\n",
    "        while self.t < tfinal:\n",
    "            self.verletUpdateStep()\n",
    "            if snapshot:\n",
    "                f,ax = self.plotSim(padding, showVel)\n",
    "                f.savefig(self.outdir+'snap_%08d.pdf'%(count))\n",
    "            self.t = self.t + self.dt\n",
    "            count += 1\n",
    "        return\n",
    "    \n",
    "    \n",
    "    def verletUpdateStep(self):\n",
    "        if self.force_matrix is None:\n",
    "            self.force_matrix = self.calculateForces()\n",
    "        vel_half = self.ptVelArray + 0.5*self.dt*np.sum(self.force_matrix, axis=1)\n",
    "        self.ptPosArray = self.ptPosArray + self.dt*vel_half\n",
    "        self.ptPosArray = self.ptPosArray%self.sideLength\n",
    "        self.force_matrix = self.calculateForces()\n",
    "        self.ptVelArray = vel_half + 0.5*self.dt*np.sum(self.force_matrix, axis=1)\n",
    "        return\n",
    "    \n",
    "    def calculateForces(self):\n",
    "        force_matrix = np.ndarray((self.Npts**2,self.Npts**2,2))\n",
    "        for i in range(self.Npts**2):\n",
    "            force_matrix[i,i] = np.array([0,0])\n",
    "        for i in range(self.Npts**2):\n",
    "            for j in range(i+1,self.Npts**2):\n",
    "                xi, yi = self.ptPosArray[i]\n",
    "                xj, yj = self.ptPosArray[j]\n",
    "                distance = self.periodicDistance(xi, yi, xj, yj, self.sideLength)\n",
    "                force_direction = 1.0/distance*np.array([xj - xi, yj - yi])\n",
    "                force_matrix[i,j] = 1.0 / distance**2 * force_direction\n",
    "                force_matrix[j,i] = np.copy(force_matrix[i,j])\n",
    "        return force_matrix\n",
    "        \n",
    "        \n",
    "        \n",
    "    def plotSim(self,padding,showVel=False):\n",
    "        f,ax = plt.subplots()\n",
    "        ax.scatter(self.ptPosArray[:,0],self.ptPosArray[:,1],marker='.',color='k')\n",
    "        if showVel:\n",
    "            ax.quiver(self.ptPosArray[:,0], self.ptPosArray[:,1], \\\n",
    "                   self.ptVelArray[:,0],self.ptVelArray[:,1],angles='xy',scale=50.0,color='r',headwidth=2)\n",
    "        \n",
    "        ax.set_xlim((-padding,self.sideLength))\n",
    "        ax.set_ylim((-padding,self.sideLength))\n",
    "        ax.set_title('$t=$%f'%(self.t))\n",
    "        \n",
    "        ax.tick_params(\n",
    "        axis='x',          # changes apply to the x-axis\n",
    "        which='both',      # both major and minor ticks are affected\n",
    "        bottom='off',      # ticks along the bottom edge are off\n",
    "        top='off',         # ticks along the top edge are off\n",
    "        labelbottom='off') # labels along the bottom edge are off\n",
    "        ax.tick_params(\n",
    "        axis='y',          # changes apply to the x-axis\n",
    "        which='both',      # both major and minor ticks are affected\n",
    "        left='off',      # ticks along the bottom edge are off\n",
    "        right='off',         # ticks along the top edge are off\n",
    "        labelleft='off') # labels along the bottom edge are off\n",
    "        \n",
    "        return f,ax\n",
    "        "
   ]
  },
  {
   "cell_type": "code",
   "execution_count": 3,
   "metadata": {
    "collapsed": false
   },
   "outputs": [],
   "source": [
    "sim = CosmoSim(10, 1, 10,0.0,'.')"
   ]
  },
  {
   "cell_type": "code",
   "execution_count": 4,
   "metadata": {
    "collapsed": false
   },
   "outputs": [],
   "source": [
    "f,ax = sim.plotSim(1,showVel=False)"
   ]
  },
  {
   "cell_type": "code",
   "execution_count": 5,
   "metadata": {
    "collapsed": false
   },
   "outputs": [],
   "source": [
    "sim.perturbPos(.2)"
   ]
  },
  {
   "cell_type": "code",
   "execution_count": 6,
   "metadata": {
    "collapsed": false
   },
   "outputs": [],
   "source": [
    "f,ax = sim.plotSim(1,showVel=False)"
   ]
  },
  {
   "cell_type": "code",
   "execution_count": 13,
   "metadata": {
    "collapsed": false
   },
   "outputs": [
    {
     "name": "stderr",
     "output_type": "stream",
     "text": [
      "/home/data/mew488/virtualenvs/mypy2.7/lib/python2.7/site-packages/matplotlib/pyplot.py:524: RuntimeWarning: More than 20 figures have been opened. Figures created through the pyplot interface (`matplotlib.pyplot.figure`) are retained until explicitly closed and may consume too much memory. (To control this warning, see the rcParam `figure.max_open_warning`).\n",
      "  max_open_warning, RuntimeWarning)\n"
     ]
    }
   ],
   "source": [
    "sim = CosmoSim(Npts=10, ptMass=1, sideLength=10,t=0.0,outdir='/home/data/mew488/Desktop/NYU/Research/Hogg/reconstruct/sim1/')\n",
    "sim.perturbPos(.2)\n",
    "sim.evolve(tfinal=1.0, N=100, padding=1.0, showVel=False, snapshot=True)"
   ]
  },
  {
   "cell_type": "code",
   "execution_count": 110,
   "metadata": {
    "collapsed": false
   },
   "outputs": [
    {
     "data": {
      "text/plain": [
       "array([0, 1, 2, 3, 4])"
      ]
     },
     "execution_count": 110,
     "metadata": {},
     "output_type": "execute_result"
    }
   ],
   "source": [
    "a"
   ]
  },
  {
   "cell_type": "code",
   "execution_count": 113,
   "metadata": {
    "collapsed": false
   },
   "outputs": [],
   "source": [
    "a = np.reshape(np.arange(10),(5,2))"
   ]
  },
  {
   "cell_type": "code",
   "execution_count": 7,
   "metadata": {
    "collapsed": false
   },
   "outputs": [],
   "source": [
    "a=1"
   ]
  },
  {
   "cell_type": "code",
   "execution_count": 10,
   "metadata": {
    "collapsed": false
   },
   "outputs": [
    {
     "name": "stdout",
     "output_type": "stream",
     "text": [
      "snap_00000001\n",
      "snap_00000100\n"
     ]
    }
   ],
   "source": [
    "print \"snap_%08d\"%(a)\n",
    "print \"snap_%08d\"%(100)"
   ]
  },
  {
   "cell_type": "code",
   "execution_count": null,
   "metadata": {
    "collapsed": true
   },
   "outputs": [],
   "source": []
  }
 ],
 "metadata": {
  "kernelspec": {
   "display_name": "Python 2",
   "language": "python",
   "name": "python2"
  },
  "language_info": {
   "codemirror_mode": {
    "name": "ipython",
    "version": 2
   },
   "file_extension": ".py",
   "mimetype": "text/x-python",
   "name": "python",
   "nbconvert_exporter": "python",
   "pygments_lexer": "ipython2",
   "version": "2.7.1"
  }
 },
 "nbformat": 4,
 "nbformat_minor": 2
}
